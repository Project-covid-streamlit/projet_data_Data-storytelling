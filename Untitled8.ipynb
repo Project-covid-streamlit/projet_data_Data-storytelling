{
  "cells": [
    {
      "cell_type": "markdown",
      "metadata": {
        "id": "view-in-github",
        "colab_type": "text"
      },
      "source": [
        "<a href=\"https://colab.research.google.com/github/Project-covid-streamlit/projet_data_Data-storytelling/blob/alimou/Untitled8.ipynb\" target=\"_parent\"><img src=\"https://colab.research.google.com/assets/colab-badge.svg\" alt=\"Open In Colab\"/></a>"
      ]
    },
    {
      "cell_type": "code",
      "execution_count": null,
      "metadata": {
        "colab": {
          "base_uri": "https://localhost:8080/"
        },
        "id": "NEgIlO-cSM_W",
        "outputId": "3ddca421-5169-41f0-b441-674b7de531ac"
      },
      "outputs": [
        {
          "name": "stdout",
          "output_type": "stream",
          "text": [
            "\u001b[2K     \u001b[90m━━━━━━━━━━━━━━━━━━━━━━━━━━━━━━━━━━━━━━━━\u001b[0m \u001b[32m9.2/9.2 MB\u001b[0m \u001b[31m80.0 MB/s\u001b[0m eta \u001b[36m0:00:00\u001b[0m\n",
            "\u001b[2K     \u001b[90m━━━━━━━━━━━━━━━━━━━━━━━━━━━━━━━━━━━━━━━━\u001b[0m \u001b[32m79.0/79.0 KB\u001b[0m \u001b[31m10.4 MB/s\u001b[0m eta \u001b[36m0:00:00\u001b[0m\n",
            "\u001b[2K     \u001b[90m━━━━━━━━━━━━━━━━━━━━━━━━━━━━━━━━━━━━━━\u001b[0m \u001b[32m164.8/164.8 KB\u001b[0m \u001b[31m18.4 MB/s\u001b[0m eta \u001b[36m0:00:00\u001b[0m\n",
            "\u001b[2K     \u001b[90m━━━━━━━━━━━━━━━━━━━━━━━━━━━━━━━━━━━━━━\u001b[0m \u001b[32m238.1/238.1 KB\u001b[0m \u001b[31m24.9 MB/s\u001b[0m eta \u001b[36m0:00:00\u001b[0m\n",
            "\u001b[2K     \u001b[90m━━━━━━━━━━━━━━━━━━━━━━━━━━━━━━━━━━━━━━━━\u001b[0m \u001b[32m4.7/4.7 MB\u001b[0m \u001b[31m98.2 MB/s\u001b[0m eta \u001b[36m0:00:00\u001b[0m\n",
            "\u001b[?25h  Preparing metadata (setup.py) ... \u001b[?25l\u001b[?25hdone\n",
            "\u001b[2K     \u001b[90m━━━━━━━━━━━━━━━━━━━━━━━━━━━━━━━━━━━━━━\u001b[0m \u001b[32m184.0/184.0 KB\u001b[0m \u001b[31m16.9 MB/s\u001b[0m eta \u001b[36m0:00:00\u001b[0m\n",
            "\u001b[2K     \u001b[90m━━━━━━━━━━━━━━━━━━━━━━━━━━━━━━━━━━━━━━━━\u001b[0m \u001b[32m62.7/62.7 KB\u001b[0m \u001b[31m7.0 MB/s\u001b[0m eta \u001b[36m0:00:00\u001b[0m\n",
            "\u001b[2K     \u001b[90m━━━━━━━━━━━━━━━━━━━━━━━━━━━━━━━━━━━━━━━━\u001b[0m \u001b[32m51.1/51.1 KB\u001b[0m \u001b[31m6.6 MB/s\u001b[0m eta \u001b[36m0:00:00\u001b[0m\n",
            "\u001b[?25h  Building wheel for validators (setup.py) ... \u001b[?25l\u001b[?25hdone\n"
          ]
        }
      ],
      "source": [
        "!pip install -q streamlit"
      ]
    },
    {
      "cell_type": "code",
      "execution_count": null,
      "metadata": {
        "colab": {
          "base_uri": "https://localhost:8080/"
        },
        "id": "UUU045oKU5jn",
        "outputId": "69a9f5be-3d81-4e10-fc78-b6cd86425499"
      },
      "outputs": [
        {
          "name": "stdout",
          "output_type": "stream",
          "text": [
            "Looking in indexes: https://pypi.org/simple, https://us-python.pkg.dev/colab-wheels/public/simple/\n",
            "Collecting pyngrok\n",
            "  Downloading pyngrok-5.2.1.tar.gz (761 kB)\n",
            "\u001b[2K     \u001b[90m━━━━━━━━━━━━━━━━━━━━━━━━━━━━━━━━━━━━━━\u001b[0m \u001b[32m761.3/761.3 KB\u001b[0m \u001b[31m26.0 MB/s\u001b[0m eta \u001b[36m0:00:00\u001b[0m\n",
            "\u001b[?25h  Preparing metadata (setup.py) ... \u001b[?25l\u001b[?25hdone\n",
            "Requirement already satisfied: PyYAML in /usr/local/lib/python3.8/dist-packages (from pyngrok) (6.0)\n",
            "Building wheels for collected packages: pyngrok\n",
            "  Building wheel for pyngrok (setup.py) ... \u001b[?25l\u001b[?25hdone\n",
            "  Created wheel for pyngrok: filename=pyngrok-5.2.1-py3-none-any.whl size=19792 sha256=548d7df768e085f59b5ba64c3cc062149acaa0383fe33f218230c9724fef6897\n",
            "  Stored in directory: /root/.cache/pip/wheels/5d/f2/70/526da675d32f17577ec47ac4c663084efe39d47c826b6c3bb1\n",
            "Successfully built pyngrok\n",
            "Installing collected packages: pyngrok\n",
            "Successfully installed pyngrok-5.2.1\n"
          ]
        }
      ],
      "source": [
        "!pip install pyngrok "
      ]
    },
    {
      "cell_type": "code",
      "execution_count": null,
      "metadata": {
        "colab": {
          "base_uri": "https://localhost:8080/"
        },
        "id": "gn6PH0-2T5QP",
        "outputId": "42cda51c-3746-4a07-c691-d747c57ef5ad"
      },
      "outputs": [
        {
          "name": "stdout",
          "output_type": "stream",
          "text": [
            "/bin/bash: ./ngrok: No such file or directory\n"
          ]
        }
      ],
      "source": [
        "!./ngrok authtokens 2Jpaqgk7e4O2QWjIKnVcNxqG8ny_6Z1CFqcqgwQgHnzykdxhU"
      ]
    },
    {
      "cell_type": "code",
      "execution_count": null,
      "metadata": {
        "colab": {
          "base_uri": "https://localhost:8080/"
        },
        "id": "CLEsclrlT7RG",
        "outputId": "3a5399a5-bee8-4741-ae4e-d6775f02d7f0"
      },
      "outputs": [
        {
          "name": "stdout",
          "output_type": "stream",
          "text": []
        },
        {
          "data": {
            "text/plain": [
              "<NgrokTunnel: \"http://ee5d-34-90-54-136.ngrok.io\" -> \"http://localhost:80\">"
            ]
          },
          "execution_count": 5,
          "metadata": {},
          "output_type": "execute_result"
        }
      ],
      "source": [
        "from pyngrok import ngrok \n",
        "public_url = ngrok.connect(port='8501')\n",
        "public_url"
      ]
    },
    {
      "cell_type": "code",
      "execution_count": null,
      "metadata": {
        "id": "ZjEy4pGHW0kT"
      },
      "outputs": [],
      "source": [
        "pip install --upgrade protobuf"
      ]
    },
    {
      "cell_type": "code",
      "execution_count": null,
      "metadata": {
        "id": "fvr1yoAiJ8O6"
      },
      "outputs": [],
      "source": [
        "df_EC=df[[\"Pays\",\"Date\", \"Premiers cas\"]]"
      ]
    },
    {
      "cell_type": "code",
      "execution_count": null,
      "metadata": {
        "id": "WSFKMGGwjjxL"
      },
      "outputs": [],
      "source": [
        "df_EC.to_csv('expansion_c.csv')"
      ]
    },
    {
      "cell_type": "code",
      "execution_count": null,
      "metadata": {
        "colab": {
          "base_uri": "https://localhost:8080/"
        },
        "id": "Ls6bxWyF6gYi",
        "outputId": "f27b8dd4-a749-4a82-b172-56fe29e1032c"
      },
      "outputs": [
        {
          "name": "stdout",
          "output_type": "stream",
          "text": [
            "<class 'pandas.core.frame.DataFrame'>\n",
            "RangeIndex: 248 entries, 0 to 247\n",
            "Data columns (total 17 columns):\n",
            " #   Column                                   Non-Null Count  Dtype  \n",
            "---  ------                                   --------------  -----  \n",
            " 0   iso_code                                 248 non-null    object \n",
            " 1   location                                 248 non-null    object \n",
            " 2   population                               247 non-null    float64\n",
            " 3   human_development_index                  190 non-null    float64\n",
            " 4   life_expectancy                          227 non-null    float64\n",
            " 5   hospital_beds_per_thousand               173 non-null    float64\n",
            " 6   aged_65_older                            193 non-null    float64\n",
            " 7   median_age                               196 non-null    float64\n",
            " 8   population_density                       213 non-null    float64\n",
            " 9   continent                                235 non-null    object \n",
            " 10  Nombre de cas                            231 non-null    float64\n",
            " 11  Nombre de morts                          227 non-null    float64\n",
            " 12  Nombre de cas par million                230 non-null    float64\n",
            " 13  Nombre de morts par million              226 non-null    float64\n",
            " 14  Nombre de vaccinés ( au moins une dose)  235 non-null    float64\n",
            " 15  Nombre de vaccinés ( toutes les doses)   235 non-null    float64\n",
            " 16  Index                                    248 non-null    int64  \n",
            "dtypes: float64(13), int64(1), object(3)\n",
            "memory usage: 33.1+ KB\n"
          ]
        }
      ],
      "source": [
        "df = pd.read_excel(\"/content/Les pays les plus touchés.xlsx\")\n",
        "\n",
        "df.info()"
      ]
    },
    {
      "cell_type": "code",
      "execution_count": null,
      "metadata": {
        "colab": {
          "base_uri": "https://localhost:8080/"
        },
        "id": "MrP00vFKWgLL",
        "outputId": "914c5571-31aa-4307-b4e0-77039182c07b"
      },
      "outputs": [
        {
          "name": "stdout",
          "output_type": "stream",
          "text": [
            "Overwriting streamlit_app.py\n"
          ]
        }
      ],
      "source": [
        "%%writefile streamlit_app.py \n",
        "import numpy as np  # np mean, np random\n",
        "import pandas as pd  # read csv, df manipulation\n",
        "import plotly.express as px  # interactive charts\n",
        "import streamlit as st  # 🎈 data web app development\n",
        "import altair as alt\n",
        "st.set_page_config(\n",
        "    page_title=\"Impact covid\",\n",
        "    page_icon=\"✅\",\n",
        "    layout=\"wide\",\n",
        ")\n",
        "\n",
        "\n",
        "st.title(\"Propagation du COVID19 et impact des vaccins\")\n",
        "\n",
        "tab1, tab2,tab3,tab4 = st.tabs([\"Découverte du COVID19\", \"Propagation du COVID19\",\"Evolution du COVID19 et vaccins\",\"Bilan COVID19\"])\n",
        "\n",
        "with tab1:\n",
        "    st.header(\"Découverte du COVID19\")\n",
        "    st.image(\"/content/date_covid.png\",width=200)\n",
        "    st.markdown(\"<p style='text-align:justify;'>Depuis le 16 novembre 2019,le monde est plongé dans une pandémie qu’on nomme SARS-COV-2 aussi connu sur le nom de Covid-19. En effet, ce virus, qui porte son origine de la ville de Wuhan, dans la province de Hubei en Chine centrale,a très vite conquis une bonne partie du monde,plongeant celui-là dans une angoisse profonde, à la quête de traitement et de solution pour le contrer. De par ses caractéristiques très contagieuses, ce virus a su se propager très rapidement dans nos sociétés, nous obligeant ainsi à réfléchir autrement et à trouver des alternatives afin de pallier cette crise sanitaire.Il faut savoir qu’une personne qui est malade est successible de contaminer 3 personnes en l’absence de mesures de protection.</p>\" , unsafe_allow_html=True)\n",
        "    \n",
        "    st.image(\"/content/wuhan.png\", width=200)\n",
        "    st.markdown(\"<p style='text-align:justify;'>C'est la ville où a été identifiée le virus 🦠 pour la première fois suite à une vague de personnes malades.</p>\",unsafe_allow_html=True)\n",
        "    \n",
        "    st.image(\"/content/origine.png\", width=200)\n",
        "    \n",
        "    st.markdown(\"<p style='text-align:justify;'>Le Covid-19 est un virus qui se transmet relativement,facilement.Il est possible de transmettre cette maladie de trois manières : par projection de postillons (lorsqu’une personne malade tousse ou éternue par exemple),par contact physique direct (une accolade, une bise avec une personne portante du virus pourrait réussir à contaminer une personne saine),et enfin une contamination indirecte via des surfaces ou des objets contaminés par une personne porteuse du virus. </p>\",unsafe_allow_html=True)\n",
        "    \n",
        "\n",
        "with tab2:\n",
        "    st.markdown(\"<h2 style='text-align:center;'>Propagation du COVID19</h2>\", unsafe_allow_html=True)\n",
        "    st.markdown(\"<h3 style='text-align:center;'>(5 mois!C'est le temps qu'il a fallu au virus pour se propager dans le monde')</h3>\",unsafe_allow_html=True)\n",
        "    \n",
        "    df_e=pd.read_csv(\"/content/EXPANSION DU COVID.csv\")\n",
        "    job_filter = st.select_slider(\"Date\", df_e[\"Date\"].sort_values(ascending=True))\n",
        "    df_e = df_e[df_e[\"Date\"] <= job_filter]\n",
        "    \n",
        "  \n",
        "    fig_col3, fig_col4 = st.columns(2)\n",
        "    \n",
        "    with fig_col3:\n",
        "        st.markdown(\"### Premiers cas de COVID19 par pays\")\n",
        "        st.dataframe(df_e)\n",
        "         \n",
        "    with fig_col4:\n",
        "        st.markdown(\"### Propagation du COVID19 dans le monde\")\n",
        "        st.map(df_e)\n",
        "\n",
        "    st.markdown(\"<h2 style='text-align:center;'>Question</h2>\", unsafe_allow_html=True)\n",
        "    if st.button('Quel est le dernier pays à être affecté par le COVID 19 ?'):\n",
        "        st.write('Palau: pays à revenu intermediare de 21500 habitants situé en Micronésie.Date des premiers cas de COVID19 detectés : 22 août 2021.')\n",
        "        st.image(\"/content/2023_01_05_07j_Kleki.png\",width=380)\n",
        "    else:\n",
        "        st.write('')\n",
        "  \n",
        "\n",
        "with tab3:\n",
        "   st.header(\"Evolution du COVID19 et vaccins\")\n",
        "   df_c=pd.read_excel(\"/content/COVID et VACCINS par pays.xlsx\")\n",
        "\n",
        "   # top-level filters\n",
        "   job_filte = st.selectbox(\"Pays ou Continent\", pd.unique(df_c[\"location\"]))\n",
        "\n",
        "   df_c = df_c[df_c[\"location\"] == job_filte]\n",
        "   \n",
        "       # creating KPIs\n",
        "   med_age = np.mean(df_c[\"median_age\"])\n",
        "   agé = np.mean(df_c[\"aged_65_older\"])   \n",
        "   densité = np.mean(df_c[\"population_density\"])\n",
        "   #lits = np.mean(df_c[\"hospital_beds_per_thousand\"])\n",
        "   #idh= np.mean(df_c[\"human_development_index\"])\n",
        "   \n",
        "   kpi1, kpi2, kpi3 = st.columns(3)\n",
        "\n",
        "   \n",
        "   kpi1.metric(\n",
        "            label=\"Age médian\",\n",
        "            value=round(med_age))\n",
        "   \n",
        "   kpi2.metric(\n",
        "            label=\"Par de population de plus de 65 ans (%)\",\n",
        "            value=round(agé))\n",
        "   kpi3.metric(\n",
        "            label=\"Densité de population\",\n",
        "            value=round(densité))\n",
        "  \n",
        "   st.markdown(\"### Evolution nombre de cas COVID19 et de personnes vaccinées\")\n",
        "   st.line_chart(df_c, x=\"date\", y=[\"total_cases\",\"people_vaccinated\",\"people_fully_vaccinated\"])\n",
        "   \n",
        "   st.markdown(\"### Evolution du nombre de décès\")\n",
        "   st.line_chart(df_c, x=\"date\", y=[\"total_deaths\"])\n",
        "   \n",
        "   \n",
        "\n",
        "with tab4:\n",
        "   st.header(\"Bilan\")\n",
        "  \n",
        "   df_u=pd.read_csv(\"/content/Les pays les plus touchés.csv\")\n",
        "   job_filter = st.select_slider(\"Nombre de pays\", df_u[\"Index\"].sort_values(ascending=True))\n",
        "   df_u = df_u[df_u[\"Index\"] <= job_filter]    \n",
        "\n",
        "   fig_col1, fig_col2 = st.columns(2)\n",
        "  \n",
        "   with fig_col1:\n",
        "        st.markdown(\"### Nombre de morts pour un million d'habitants\")\n",
        "        fig=px.bar(df_u,x='Nombre de morts par million',y='location', orientation='h')\n",
        "        st.write(fig)\n",
        "            \n",
        "   with fig_col2:\n",
        "\n",
        "        st.markdown(\"### Nombre de vaccinés pour un million d'habitants\")\n",
        "        fig2=px.bar(df_u,x='Nombre de vaccinés ( toutes les doses) par million' , y='location', orientation='h')\n",
        "        st.write(fig2)\n",
        "    \n",
        "   st.markdown(\"### Caractéristiques des pays\")\n",
        "   st.dataframe(df_u)"
      ]
    },
    {
      "cell_type": "code",
      "execution_count": null,
      "metadata": {
        "colab": {
          "background_save": true,
          "base_uri": "https://localhost:8080/"
        },
        "id": "k2glXapCXc6v",
        "outputId": "1d245adc-35d0-4b55-c611-3f17ee0dd8fe"
      },
      "outputs": [
        {
          "name": "stdout",
          "output_type": "stream",
          "text": [
            "[##................] / fetchMetadata: sill resolveWithNewModule yargs-parser@20\u001b[0m\u001b[K\n",
            "Collecting usage statistics. To deactivate, set browser.gatherUsageStats to False.\n",
            "\u001b[0m\n",
            "\u001b[0m\n",
            "\u001b[34m\u001b[1m  You can now view your Streamlit app in your browser.\u001b[0m\n",
            "\u001b[0m\n",
            "\u001b[34m  Network URL: \u001b[0m\u001b[1mhttp://172.28.0.12:8501\u001b[0m\n",
            "\u001b[34m  External URL: \u001b[0m\u001b[1mhttp://34.90.54.136:8501\u001b[0m\n",
            "\u001b[0m\n",
            "\u001b[K\u001b[?25hnpx: installed 22 in 2.766s\n",
            "your url is: https://calm-monkeys-join-34-90-54-136.loca.lt\n"
          ]
        }
      ],
      "source": [
        "!streamlit run /content/streamlit_app.py & npx localtunnel --port 8501 "
      ]
    },
    {
      "cell_type": "code",
      "execution_count": null,
      "metadata": {
        "id": "nrgLh0d-R-ER"
      },
      "outputs": [],
      "source": [
        "import time  # to simulate a real time data, time loop\n",
        "from pyngrok import ngrok \n",
        "import numpy as np  # np mean, np random\n",
        "import pandas as pd  # read csv, df manipulation\n",
        "import plotly.express as px  # interactive charts\n",
        "import streamlit as st"
      ]
    },
    {
      "cell_type": "code",
      "execution_count": null,
      "metadata": {
        "id": "6Db8BP3bT5Cz"
      },
      "outputs": [],
      "source": [
        "df = pd.read_excel(\"/content/Les pays les plus touchés.xlsx\")"
      ]
    },
    {
      "cell_type": "code",
      "execution_count": null,
      "metadata": {
        "colab": {
          "base_uri": "https://localhost:8080/"
        },
        "id": "t4v6ZvDK6lKl",
        "outputId": "00b1ac8c-7088-448f-f917-39bfb6d750b6"
      },
      "outputs": [
        {
          "name": "stdout",
          "output_type": "stream",
          "text": [
            "<class 'pandas.core.frame.DataFrame'>\n",
            "RangeIndex: 248 entries, 0 to 247\n",
            "Data columns (total 18 columns):\n",
            " #   Column                                              Non-Null Count  Dtype  \n",
            "---  ------                                              --------------  -----  \n",
            " 0   iso_code                                            248 non-null    object \n",
            " 1   location                                            248 non-null    object \n",
            " 2   population                                          247 non-null    float64\n",
            " 3   human_development_index                             190 non-null    float64\n",
            " 4   life_expectancy                                     227 non-null    float64\n",
            " 5   hospital_beds_per_thousand                          173 non-null    float64\n",
            " 6   aged_65_older                                       193 non-null    float64\n",
            " 7   median_age                                          196 non-null    float64\n",
            " 8   population_density                                  213 non-null    float64\n",
            " 9   continent                                           235 non-null    object \n",
            " 10  Nombre de cas                                       231 non-null    float64\n",
            " 11  Nombre de morts                                     227 non-null    float64\n",
            " 12  Nombre de cas par million                           230 non-null    float64\n",
            " 13  Nombre de morts par million                         226 non-null    float64\n",
            " 14  Nombre de vaccinés ( au moins une dose)             235 non-null    float64\n",
            " 15  Nombre de vaccinés ( toutes les doses)              235 non-null    float64\n",
            " 16  Index                                               248 non-null    int64  \n",
            " 17  Nombre de vaccinés ( toutes les doses) par million  235 non-null    float64\n",
            "dtypes: float64(14), int64(1), object(3)\n",
            "memory usage: 35.0+ KB\n"
          ]
        }
      ],
      "source": [
        "df.info()\n"
      ]
    },
    {
      "cell_type": "code",
      "execution_count": null,
      "metadata": {
        "id": "rKyKn2jk6uR9"
      },
      "outputs": [],
      "source": [
        "df[\"Nombre de vaccinés ( toutes les doses) par million\"]=(df[\"Nombre de vaccinés ( toutes les doses)\"]/df[\"population\"])*1000000"
      ]
    },
    {
      "cell_type": "code",
      "execution_count": null,
      "metadata": {
        "id": "JGeSEcGT6uNm"
      },
      "outputs": [],
      "source": [
        "df.to_csv(\"Les pays les plus touchés.csv\",index=False)"
      ]
    },
    {
      "cell_type": "code",
      "execution_count": null,
      "metadata": {
        "id": "L0rpdg7l6uGA"
      },
      "outputs": [],
      "source": [
        "d=pd.read_excel(\"/content/EXPANSION DU COVID(2).xlsx\")\n"
      ]
    },
    {
      "cell_type": "code",
      "execution_count": null,
      "metadata": {
        "colab": {
          "base_uri": "https://localhost:8080/"
        },
        "id": "JmPz6u_l8I5a",
        "outputId": "80897d48-0d87-484d-f0f0-d033f82eff6a"
      },
      "outputs": [
        {
          "name": "stdout",
          "output_type": "stream",
          "text": [
            "<class 'pandas.core.frame.DataFrame'>\n",
            "RangeIndex: 209 entries, 0 to 208\n",
            "Data columns (total 6 columns):\n",
            " #   Column                            Non-Null Count  Dtype         \n",
            "---  ------                            --------------  -----         \n",
            " 0   Pays                              209 non-null    object        \n",
            " 1   Date                              209 non-null    datetime64[ns]\n",
            " 2   Nombre de premiers cas de covid   200 non-null    float64       \n",
            " 3   latitude                          209 non-null    float64       \n",
            " 4   longitude                         209 non-null    float64       \n",
            " 5   coompte                           209 non-null    int64         \n",
            "dtypes: datetime64[ns](1), float64(3), int64(1), object(1)\n",
            "memory usage: 9.9+ KB\n"
          ]
        }
      ],
      "source": [
        "d.info()"
      ]
    },
    {
      "cell_type": "code",
      "execution_count": null,
      "metadata": {
        "id": "8UHinVTH8NsX"
      },
      "outputs": [],
      "source": [
        "d[\"nbr ligne\"]=1"
      ]
    },
    {
      "cell_type": "code",
      "execution_count": null,
      "metadata": {
        "id": "0oFL5bPb8kvx"
      },
      "outputs": [],
      "source": [
        "d.to_csv(\"EXPANSION DU COVID.csv\",index=False)"
      ]
    }
  ],
  "metadata": {
    "colab": {
      "provenance": [],
      "include_colab_link": true
    },
    "kernelspec": {
      "display_name": "Python 3",
      "name": "python3"
    },
    "language_info": {
      "name": "python"
    }
  },
  "nbformat": 4,
  "nbformat_minor": 0
}